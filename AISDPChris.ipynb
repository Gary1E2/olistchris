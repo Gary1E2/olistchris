{
  "cells": [
    {
      "cell_type": "markdown",
      "metadata": {},
      "source": [
        "# Imports"
      ]
    },
    {
      "cell_type": "code",
      "execution_count": 1,
      "metadata": {
        "id": "55tBiekExncv"
      },
      "outputs": [
        {
          "name": "stdout",
          "output_type": "stream",
          "text": [
            "Requirement already satisfied: folium in c:\\users\\cryp1\\anaconda3\\lib\\site-packages (0.19.6)\n",
            "Requirement already satisfied: branca>=0.6.0 in c:\\users\\cryp1\\anaconda3\\lib\\site-packages (from folium) (0.8.1)\n",
            "Requirement already satisfied: jinja2>=2.9 in c:\\users\\cryp1\\anaconda3\\lib\\site-packages (from folium) (3.1.4)\n",
            "Requirement already satisfied: numpy in c:\\users\\cryp1\\anaconda3\\lib\\site-packages (from folium) (1.26.4)\n",
            "Requirement already satisfied: requests in c:\\users\\cryp1\\anaconda3\\lib\\site-packages (from folium) (2.32.3)\n",
            "Requirement already satisfied: xyzservices in c:\\users\\cryp1\\anaconda3\\lib\\site-packages (from folium) (2022.9.0)\n",
            "Requirement already satisfied: MarkupSafe>=2.0 in c:\\users\\cryp1\\anaconda3\\lib\\site-packages (from jinja2>=2.9->folium) (2.1.3)\n",
            "Requirement already satisfied: charset-normalizer<4,>=2 in c:\\users\\cryp1\\anaconda3\\lib\\site-packages (from requests->folium) (3.3.2)\n",
            "Requirement already satisfied: idna<4,>=2.5 in c:\\users\\cryp1\\anaconda3\\lib\\site-packages (from requests->folium) (3.7)\n",
            "Requirement already satisfied: urllib3<3,>=1.21.1 in c:\\users\\cryp1\\anaconda3\\lib\\site-packages (from requests->folium) (2.2.3)\n",
            "Requirement already satisfied: certifi>=2017.4.17 in c:\\users\\cryp1\\anaconda3\\lib\\site-packages (from requests->folium) (2025.1.31)\n",
            "Requirement already satisfied: geopandas in c:\\users\\cryp1\\anaconda3\\lib\\site-packages (1.0.1)\n",
            "Requirement already satisfied: numpy>=1.22 in c:\\users\\cryp1\\anaconda3\\lib\\site-packages (from geopandas) (1.26.4)\n",
            "Requirement already satisfied: pyogrio>=0.7.2 in c:\\users\\cryp1\\anaconda3\\lib\\site-packages (from geopandas) (0.11.0)\n",
            "Requirement already satisfied: packaging in c:\\users\\cryp1\\anaconda3\\lib\\site-packages (from geopandas) (24.1)\n",
            "Requirement already satisfied: pandas>=1.4.0 in c:\\users\\cryp1\\anaconda3\\lib\\site-packages (from geopandas) (2.2.2)\n",
            "Requirement already satisfied: pyproj>=3.3.0 in c:\\users\\cryp1\\anaconda3\\lib\\site-packages (from geopandas) (3.7.1)\n",
            "Requirement already satisfied: shapely>=2.0.0 in c:\\users\\cryp1\\anaconda3\\lib\\site-packages (from geopandas) (2.1.0)\n",
            "Requirement already satisfied: python-dateutil>=2.8.2 in c:\\users\\cryp1\\anaconda3\\lib\\site-packages (from pandas>=1.4.0->geopandas) (2.9.0.post0)\n",
            "Requirement already satisfied: pytz>=2020.1 in c:\\users\\cryp1\\anaconda3\\lib\\site-packages (from pandas>=1.4.0->geopandas) (2024.1)\n",
            "Requirement already satisfied: tzdata>=2022.7 in c:\\users\\cryp1\\anaconda3\\lib\\site-packages (from pandas>=1.4.0->geopandas) (2023.3)\n",
            "Requirement already satisfied: certifi in c:\\users\\cryp1\\anaconda3\\lib\\site-packages (from pyogrio>=0.7.2->geopandas) (2025.1.31)\n",
            "Requirement already satisfied: six>=1.5 in c:\\users\\cryp1\\anaconda3\\lib\\site-packages (from python-dateutil>=2.8.2->pandas>=1.4.0->geopandas) (1.16.0)\n"
          ]
        }
      ],
      "source": [
        "!pip install folium\n",
        "!pip install geopandas"
      ]
    },
    {
      "cell_type": "code",
      "execution_count": 2,
      "metadata": {},
      "outputs": [],
      "source": [
        "import pandas as pd\n",
        "import matplotlib.pyplot as plt\n",
        "import seaborn as sns\n",
        "import folium\n",
        "from folium.plugins import HeatMap\n",
        "\n",
        "# set style\n",
        "sns.set(style='whitegrid', palette='pastel')\n",
        "pd.set_option('display.max_colwidth', None)"
      ]
    },
    {
      "cell_type": "code",
      "execution_count": 3,
      "metadata": {},
      "outputs": [],
      "source": [
        "customers = pd.read_csv(\"olist_customers_dataset.csv\")\n",
        "orders = pd.read_csv(\"olist_orders_dataset.csv\")\n",
        "order_items = pd.read_csv(\"olist_order_items_dataset.csv\")\n",
        "payments = pd.read_csv(\"olist_order_payments_dataset.csv\")\n",
        "reviews = pd.read_csv(\"olist_order_reviews_dataset.csv\")\n",
        "products = pd.read_csv(\"olist_products_dataset.csv\")\n",
        "sellers = pd.read_csv(\"olist_sellers_dataset.csv\")\n",
        "geolocation = pd.read_csv(\"olist_geolocation_dataset.csv\")\n",
        "product_translation = pd.read_csv(\"product_category_name_translation.csv\")"
      ]
    },
    {
      "cell_type": "markdown",
      "metadata": {},
      "source": [
        "# Initial EDA\n",
        "printing heads of all datasets as well as dtypes, and numerical information"
      ]
    },
    {
      "cell_type": "code",
      "execution_count": 5,
      "metadata": {},
      "outputs": [
        {
          "name": "stdout",
          "output_type": "stream",
          "text": [
            "customers:\n",
            "                        customer_id                customer_unique_id  customer_zip_code_prefix          customer_city customer_state\n",
            "0  06b8999e2fba1a1fbc88172c00ba8bc7  861eff4711a542e4b93843c6dd7febb0                     14409                 franca             SP\n",
            "1  18955e83d337fd6b2def6b18a428ac77  290c77bc529b7ac935b93aa66c333dc3                      9790  sao bernardo do campo             SP\n",
            "2  4e7b3e00288586ebd08712fdd0374a03  060e732b5b29e8181a18229c7b0b2b5e                      1151              sao paulo             SP\n",
            "3  b2b6027bc5c5109e529d4dc6358b12c3  259dac757896d24d7702b9acbbff3f3c                      8775        mogi das cruzes             SP\n",
            "4  4f2d8ab171c80ec8364f7c12e35b23ad  345ecd01c38d18a9036ed96c73b8d066                     13056               campinas             SP\n",
            "\n",
            "-------------------------\n",
            "orders:\n",
            "                           order_id                       customer_id order_status order_purchase_timestamp    order_approved_at order_delivered_carrier_date order_delivered_customer_date order_estimated_delivery_date\n",
            "0  e481f51cbdc54678b7cc49136f2d6af7  9ef432eb6251297304e76186b10a928d    delivered      2017-10-02 10:56:33  2017-10-02 11:07:15          2017-10-04 19:55:00           2017-10-10 21:25:13           2017-10-18 00:00:00\n",
            "1  53cdb2fc8bc7dce0b6741e2150273451  b0830fb4747a6c6d20dea0b8c802d7ef    delivered      2018-07-24 20:41:37  2018-07-26 03:24:27          2018-07-26 14:31:00           2018-08-07 15:27:45           2018-08-13 00:00:00\n",
            "2  47770eb9100c2d0c44946d9cf07ec65d  41ce2a54c0b03bf3443c3d931a367089    delivered      2018-08-08 08:38:49  2018-08-08 08:55:23          2018-08-08 13:50:00           2018-08-17 18:06:29           2018-09-04 00:00:00\n",
            "3  949d5b44dbf5de918fe9c16f97b45f8a  f88197465ea7920adcdbec7375364d82    delivered      2017-11-18 19:28:06  2017-11-18 19:45:59          2017-11-22 13:39:59           2017-12-02 00:28:42           2017-12-15 00:00:00\n",
            "4  ad21c59c0840e6cb83a9ceb5573f8159  8ab97904e6daea8866dbdbc4fb7aad2c    delivered      2018-02-13 21:18:39  2018-02-13 22:20:29          2018-02-14 19:46:34           2018-02-16 18:17:02           2018-02-26 00:00:00\n",
            "\n",
            "-------------------------\n",
            "order_items:\n",
            "                           order_id  order_item_id                        product_id                         seller_id  shipping_limit_date   price  freight_value\n",
            "0  00010242fe8c5a6d1ba2dd792cb16214              1  4244733e06e7ecb4970a6e2683c13e61  48436dade18ac8b2bce089ec2a041202  2017-09-19 09:45:35   58.90          13.29\n",
            "1  00018f77f2f0320c557190d7a144bdd3              1  e5f2d52b802189ee658865ca93d83a8f  dd7ddc04e1b6c2c614352b383efe2d36  2017-05-03 11:05:13  239.90          19.93\n",
            "2  000229ec398224ef6ca0657da4fc703e              1  c777355d18b72b67abbeef9df44fd0fd  5b51032eddd242adc84c38acab88f23d  2018-01-18 14:48:30  199.00          17.87\n",
            "3  00024acbcdf0a6daa1e931b038114c75              1  7634da152a4610f1595efa32f14722fc  9d7a1d34a5052409006425275ba1c2b4  2018-08-15 10:10:18   12.99          12.79\n",
            "4  00042b26cf59d7ce69dfabb4e55b4fd9              1  ac6c3623068f30de03045865e4e10089  df560393f3a51e74553ab94004ba5c87  2017-02-13 13:57:51  199.90          18.14\n",
            "\n",
            "-------------------------\n",
            "payments:\n",
            "                           order_id  payment_sequential payment_type  payment_installments  payment_value\n",
            "0  b81ef226f3fe1789b1e8b2acac839d17                   1  credit_card                     8          99.33\n",
            "1  a9810da82917af2d9aefd1278f1dcfa0                   1  credit_card                     1          24.39\n",
            "2  25e8ea4e93396b6fa0d3dd708e76c1bd                   1  credit_card                     1          65.71\n",
            "3  ba78997921bbcdc1373bb41e913ab953                   1  credit_card                     8         107.78\n",
            "4  42fdf880ba16b47b59251dd489d4441a                   1  credit_card                     2         128.45\n",
            "\n",
            "-------------------------\n",
            "reviews:\n",
            "                          review_id                          order_id  review_score review_comment_title                                                                                review_comment_message review_creation_date review_answer_timestamp\n",
            "0  7bc2406110b926393aa56f80a40eba40  73fc7af87114b39712e6da79b0a377eb             4                  NaN                                                                                                   NaN  2018-01-18 00:00:00     2018-01-18 21:46:59\n",
            "1  80e641a11e56f04c1ad469d5645fdfde  a548910a1c6147796b98fdf73dbeba33             5                  NaN                                                                                                   NaN  2018-03-10 00:00:00     2018-03-11 03:05:13\n",
            "2  228ce5500dc1d8e020d8d1322874b6f0  f9e4b658b201a9f2ecdecbb34bed034b             5                  NaN                                                                                                   NaN  2018-02-17 00:00:00     2018-02-18 14:36:24\n",
            "3  e64fb393e7b32834bb789ff8bb30750e  658677c97b385a9be170737859d3511b             5                  NaN                                                                 Recebi bem antes do prazo estipulado.  2017-04-21 00:00:00     2017-04-21 22:02:06\n",
            "4  f7c4243c7fe1938f181bec41a392bdeb  8e6bfb81e283fa7e4f11123a3fb894f1             5                  NaN  Parabéns lojas lannister adorei comprar pela Internet seguro e prático Parabéns a todos feliz Páscoa  2018-03-01 00:00:00     2018-03-02 10:26:53\n",
            "\n",
            "-------------------------\n",
            "products:\n",
            "                         product_id  product_category_name  product_name_lenght  product_description_lenght  product_photos_qty  product_weight_g  product_length_cm  product_height_cm  product_width_cm\n",
            "0  1e9e8ef04dbcff4541ed26657ea517e5             perfumaria                 40.0                       287.0                 1.0             225.0               16.0               10.0              14.0\n",
            "1  3aa071139cb16b67ca9e5dea641aaa2f                  artes                 44.0                       276.0                 1.0            1000.0               30.0               18.0              20.0\n",
            "2  96bd76ec8810374ed1b65e291975717f          esporte_lazer                 46.0                       250.0                 1.0             154.0               18.0                9.0              15.0\n",
            "3  cef67bcfe19066a932b7673e239eb23d                  bebes                 27.0                       261.0                 1.0             371.0               26.0                4.0              26.0\n",
            "4  9dc1a7de274444849c219cff195d0b71  utilidades_domesticas                 37.0                       402.0                 4.0             625.0               20.0               17.0              13.0\n",
            "\n",
            "-------------------------\n",
            "sellers:\n",
            "                          seller_id  seller_zip_code_prefix        seller_city seller_state\n",
            "0  3442f8959a84dea7ee197c632cb2df15                   13023           campinas           SP\n",
            "1  d1b65fc7debc3361ea86b5f14c68d2e2                   13844         mogi guacu           SP\n",
            "2  ce3ad9de960102d0677a81f5d0bb7b2d                   20031     rio de janeiro           RJ\n",
            "3  c0f3eea2e14555b6faeea3dd58c1b1c3                    4195          sao paulo           SP\n",
            "4  51a04a8a6bdcb23deccc82b0b80742cf                   12914  braganca paulista           SP\n",
            "\n",
            "-------------------------\n",
            "geolocation:\n",
            "   geolocation_zip_code_prefix  geolocation_lat  geolocation_lng geolocation_city geolocation_state\n",
            "0                         1037       -23.545621       -46.639292        sao paulo                SP\n",
            "1                         1046       -23.546081       -46.644820        sao paulo                SP\n",
            "2                         1046       -23.546129       -46.642951        sao paulo                SP\n",
            "3                         1041       -23.544392       -46.639499        sao paulo                SP\n",
            "4                         1035       -23.541578       -46.641607        sao paulo                SP\n",
            "\n",
            "-------------------------\n",
            "product_translation:\n",
            "    product_category_name product_category_name_english\n",
            "0            beleza_saude                 health_beauty\n",
            "1  informatica_acessorios         computers_accessories\n",
            "2              automotivo                          auto\n",
            "3         cama_mesa_banho                bed_bath_table\n",
            "4        moveis_decoracao               furniture_decor\n"
          ]
        }
      ],
      "source": [
        "# heads\n",
        "print(\"customers:\")\n",
        "print(customers.head().to_string())\n",
        "print(\"\\n-------------------------\\norders:\")\n",
        "print(orders.head().to_string())\n",
        "print(\"\\n-------------------------\\norder_items:\")\n",
        "print(order_items.head().to_string())\n",
        "print(\"\\n-------------------------\\npayments:\")\n",
        "print(payments.head().to_string())\n",
        "print(\"\\n-------------------------\\nreviews:\")\n",
        "print(reviews.head().to_string())\n",
        "print(\"\\n-------------------------\\nproducts:\")\n",
        "print(products.head().to_string())\n",
        "print(\"\\n-------------------------\\nsellers:\")\n",
        "print(sellers.head().to_string())\n",
        "print(\"\\n-------------------------\\ngeolocation:\")\n",
        "print(geolocation.head().to_string())\n",
        "print(\"\\n-------------------------\\nproduct_translation:\")\n",
        "print(product_translation.head().to_string())"
      ]
    },
    {
      "cell_type": "code",
      "execution_count": null,
      "metadata": {},
      "outputs": [],
      "source": []
    }
  ],
  "metadata": {
    "colab": {
      "provenance": []
    },
    "kernelspec": {
      "display_name": "base",
      "language": "python",
      "name": "python3"
    },
    "language_info": {
      "codemirror_mode": {
        "name": "ipython",
        "version": 3
      },
      "file_extension": ".py",
      "mimetype": "text/x-python",
      "name": "python",
      "nbconvert_exporter": "python",
      "pygments_lexer": "ipython3",
      "version": "3.12.7"
    }
  },
  "nbformat": 4,
  "nbformat_minor": 0
}
